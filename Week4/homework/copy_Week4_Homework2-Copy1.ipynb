{
 "cells": [
  {
   "cell_type": "markdown",
   "metadata": {},
   "source": [
    "Write a class that generates fake data.\n",
    "\n",
    "* Write the code under the py docs ( do NOT remove py docs )\n",
    "* Before comitting do a Restart & Run All"
   ]
  },
  {
   "cell_type": "code",
   "execution_count": 5,
   "metadata": {},
   "outputs": [],
   "source": [
    "import pandas as pd \n",
    "from faker import Faker\n",
    "import random\n",
    "import numpy as np\n",
    "fake=Faker() \n",
    "        \n",
    "class FakeDataGenerator:\n",
    "    \n",
    "    def __init__(self, df = None, rows=5):\n",
    "        \"\"\"\n",
    "        This class generates fake data\n",
    "        \n",
    "        If data frame is passed in it will add the fake data to it. \n",
    "        Otherwise, it will create a new data frame\n",
    "        \n",
    "        Parameters:\n",
    "        -----------\n",
    "        df: \n",
    "          DataFrame default is None\n",
    "          \n",
    "        rows:\n",
    "          If df None, this parameter will be used to create a data frame with `row` lenght\n",
    "        \"\"\"\n",
    "        # code goes under this line. \n",
    "        # I will deduct points if any code is written above the comments!\n",
    "        \n",
    "        self.df = pd.DataFrame (columns= []) \n",
    "\n",
    "        self.rows = rows\n",
    "        \n",
    "        \n",
    "        \n",
    "    def add_random_number(self, column_name, small_value, high_value): # optional: add probabilities \n",
    "        \"\"\"\n",
    "        adds fake name to the data frame with `column_name`\n",
    "        \n",
    "        Returns\n",
    "        -------\n",
    "        data frame\n",
    "        \"\"\"       \n",
    "        self.column_name= column_name\n",
    "        self.small_value= small_value\n",
    "        self.high_value = high_value\n",
    "\n",
    "        self.df[column_name]= np.random.randint(small_value, high_value, size=self.rows)\n",
    "\n",
    "        \n",
    "        return self.df       \n",
    "    \n",
    "        \n",
    "    def add_name(self, first_name):\n",
    "        \"\"\"\n",
    "        adds fake name to the data frame with `column_name`\n",
    "        \n",
    "        Returns\n",
    "        -------\n",
    "        data frame\n",
    "        \"\"\"\n",
    "        self.first_name = first_name\n",
    "        self.df[first_name] = [fake.first_name() for i in range (0, self.rows)]\n",
    "        \n",
    "        return self.df\n",
    "    \n",
    "    \n",
    "    def add_last_name(self, last_name):\n",
    "        \"\"\"\n",
    "        adds fake last name to the data frame with `column_name`\n",
    "        \n",
    "        Returns\n",
    "        -------\n",
    "        data frame\n",
    "        \"\"\"\n",
    "        self.last_name = last_name\n",
    "\n",
    "        self.df[last_name] = [fake.last_name() for i in range (0, self.rows)]\n",
    "        \n",
    "        return self.df\n",
    "    \n",
    "    \n",
    "    def add_email(self, email):\n",
    "        \"\"\"\n",
    "        adds fake email to the data frame with `column_name`\n",
    "        \n",
    "        Returns\n",
    "        -------\n",
    "        data frame\n",
    "        \"\"\"\n",
    "\n",
    "        self.email = email \n",
    "        self.df[email] = [fake.email() for i in range (self.rows)]\n",
    "        \n",
    "        return self.df\n",
    "    \n",
    "    \n",
    "    def add_phone_number(self, phone_number):\n",
    "        \"\"\"\n",
    "        adds fake name to the data frame with `column_name`\n",
    "        \n",
    "        Returns\n",
    "        -------\n",
    "        data frame\n",
    "        \"\"\"\n",
    "        self.phone_number = phone_number\n",
    "\n",
    "        self.df[phone_number] = [fake.phone_number() for i in range (0, self.rows)]\n",
    "        return self.df\n",
    "    \n",
    "    \n",
    "    def add_address(self, address):\n",
    "        \"\"\"\n",
    "        adds fake name to the data frame with `column_name`\n",
    "        \n",
    "        Returns\n",
    "        -------\n",
    "        data frame\n",
    "        \"\"\"\n",
    "        self.address = address\n",
    "        self.df[address] = [fake.address() for i in range (0, self.rows)]\n",
    "        return self.df\n"
   ]
  },
  {
   "cell_type": "code",
   "execution_count": 16,
   "metadata": {},
   "outputs": [],
   "source": [
    "# mario = FakeDataGenerator()\n",
    "\n",
    "# mario.add_random_number('number_of_kids', 0,7)\n",
    "# mario.add_email('email')\n",
    "# mario.add_name('first_name')\n",
    "# mario.add_last_name('last_name')\n",
    "# mario.add_address('address')\n",
    "# mario.add_phone_number('phone_number')\n"
   ]
  },
  {
   "cell_type": "code",
   "execution_count": 18,
   "metadata": {},
   "outputs": [
    {
     "data": {
      "text/plain": [
       "Index(['number_of_kids', 'email', 'first_name', 'last_name', 'address',\n",
       "       'phone_number'],\n",
       "      dtype='object')"
      ]
     },
     "execution_count": 18,
     "metadata": {},
     "output_type": "execute_result"
    }
   ],
   "source": [
    "# mario.df.columns"
   ]
  },
  {
   "cell_type": "code",
   "execution_count": 19,
   "metadata": {},
   "outputs": [
    {
     "data": {
      "text/plain": [
       "<__main__.FakeDataGenerator at 0x21d5adde7f0>"
      ]
     },
     "execution_count": 19,
     "metadata": {},
     "output_type": "execute_result"
    }
   ],
   "source": [
    "FakeDataGenerator(5)"
   ]
  },
  {
   "cell_type": "code",
   "execution_count": 20,
   "metadata": {},
   "outputs": [
    {
     "data": {
      "text/plain": [
       "<__main__.FakeDataGenerator at 0x21d5d699ac0>"
      ]
     },
     "execution_count": 20,
     "metadata": {},
     "output_type": "execute_result"
    }
   ],
   "source": [
    "FakeDataGenerator(rows=5)"
   ]
  },
  {
   "cell_type": "code",
   "execution_count": 21,
   "metadata": {},
   "outputs": [
    {
     "data": {
      "text/html": [
       "<div>\n",
       "<style scoped>\n",
       "    .dataframe tbody tr th:only-of-type {\n",
       "        vertical-align: middle;\n",
       "    }\n",
       "\n",
       "    .dataframe tbody tr th {\n",
       "        vertical-align: top;\n",
       "    }\n",
       "\n",
       "    .dataframe thead th {\n",
       "        text-align: right;\n",
       "    }\n",
       "</style>\n",
       "<table border=\"1\" class=\"dataframe\">\n",
       "  <thead>\n",
       "    <tr style=\"text-align: right;\">\n",
       "      <th></th>\n",
       "      <th>product_id</th>\n",
       "    </tr>\n",
       "  </thead>\n",
       "  <tbody>\n",
       "    <tr>\n",
       "      <th>0</th>\n",
       "      <td>123</td>\n",
       "    </tr>\n",
       "    <tr>\n",
       "      <th>1</th>\n",
       "      <td>124</td>\n",
       "    </tr>\n",
       "    <tr>\n",
       "      <th>2</th>\n",
       "      <td>125</td>\n",
       "    </tr>\n",
       "    <tr>\n",
       "      <th>3</th>\n",
       "      <td>126</td>\n",
       "    </tr>\n",
       "    <tr>\n",
       "      <th>4</th>\n",
       "      <td>127</td>\n",
       "    </tr>\n",
       "  </tbody>\n",
       "</table>\n",
       "</div>"
      ],
      "text/plain": [
       "   product_id\n",
       "0         123\n",
       "1         124\n",
       "2         125\n",
       "3         126\n",
       "4         127"
      ]
     },
     "execution_count": 21,
     "metadata": {},
     "output_type": "execute_result"
    }
   ],
   "source": [
    "import pandas as pd\n",
    "\n",
    "# Case 1 - existing data frame \n",
    "df = pd.DataFrame()\n",
    "df['product_id'] = [i + 123 for i in range(25)]\n",
    "df.head()"
   ]
  },
  {
   "cell_type": "code",
   "execution_count": 22,
   "metadata": {},
   "outputs": [
    {
     "data": {
      "text/html": [
       "<div>\n",
       "<style scoped>\n",
       "    .dataframe tbody tr th:only-of-type {\n",
       "        vertical-align: middle;\n",
       "    }\n",
       "\n",
       "    .dataframe tbody tr th {\n",
       "        vertical-align: top;\n",
       "    }\n",
       "\n",
       "    .dataframe thead th {\n",
       "        text-align: right;\n",
       "    }\n",
       "</style>\n",
       "<table border=\"1\" class=\"dataframe\">\n",
       "  <thead>\n",
       "    <tr style=\"text-align: right;\">\n",
       "      <th></th>\n",
       "      <th>shipping_address</th>\n",
       "      <th>billing_address</th>\n",
       "      <th>customer_phone</th>\n",
       "    </tr>\n",
       "  </thead>\n",
       "  <tbody>\n",
       "    <tr>\n",
       "      <th>0</th>\n",
       "      <td>00093 Shawn Estates Apt. 821\\nRhondastad, MS 4...</td>\n",
       "      <td>5888 Villarreal Green\\nFloresland, HI 54027</td>\n",
       "      <td>7725773812</td>\n",
       "    </tr>\n",
       "    <tr>\n",
       "      <th>1</th>\n",
       "      <td>1118 Wong Station\\nLake Stephen, CA 47550</td>\n",
       "      <td>380 Vaughn Stravenue\\nCaitlinfurt, DC 78558</td>\n",
       "      <td>001-229-955-2188x83179</td>\n",
       "    </tr>\n",
       "    <tr>\n",
       "      <th>2</th>\n",
       "      <td>825 Anne Inlet Suite 988\\nWest Laurieberg, CA ...</td>\n",
       "      <td>999 Wilson Heights\\nJohnsonville, AK 73675</td>\n",
       "      <td>996-210-4469</td>\n",
       "    </tr>\n",
       "    <tr>\n",
       "      <th>3</th>\n",
       "      <td>1186 Matthew Pike\\nBerrystad, AK 53131</td>\n",
       "      <td>3037 Turner Gateway Apt. 080\\nLake Josephport,...</td>\n",
       "      <td>497.258.3597x765</td>\n",
       "    </tr>\n",
       "    <tr>\n",
       "      <th>4</th>\n",
       "      <td>5200 Gillespie Village\\nDerekmouth, OR 22536</td>\n",
       "      <td>1082 Richardson River\\nJodiport, VT 44376</td>\n",
       "      <td>(207)251-8272x005</td>\n",
       "    </tr>\n",
       "  </tbody>\n",
       "</table>\n",
       "</div>"
      ],
      "text/plain": [
       "                                    shipping_address  \\\n",
       "0  00093 Shawn Estates Apt. 821\\nRhondastad, MS 4...   \n",
       "1          1118 Wong Station\\nLake Stephen, CA 47550   \n",
       "2  825 Anne Inlet Suite 988\\nWest Laurieberg, CA ...   \n",
       "3             1186 Matthew Pike\\nBerrystad, AK 53131   \n",
       "4       5200 Gillespie Village\\nDerekmouth, OR 22536   \n",
       "\n",
       "                                     billing_address          customer_phone  \n",
       "0        5888 Villarreal Green\\nFloresland, HI 54027              7725773812  \n",
       "1        380 Vaughn Stravenue\\nCaitlinfurt, DC 78558  001-229-955-2188x83179  \n",
       "2         999 Wilson Heights\\nJohnsonville, AK 73675            996-210-4469  \n",
       "3  3037 Turner Gateway Apt. 080\\nLake Josephport,...        497.258.3597x765  \n",
       "4          1082 Richardson River\\nJodiport, VT 44376       (207)251-8272x005  "
      ]
     },
     "execution_count": 22,
     "metadata": {},
     "output_type": "execute_result"
    }
   ],
   "source": [
    "fakeGen = FakeDataGenerator(df) # I'm creating instance using existing df\n",
    "fakeGen.add_address('shipping_address')\n",
    "fakeGen.add_address('billing_address')\n",
    "fakeGen.add_phone_number('customer_phone')"
   ]
  },
  {
   "cell_type": "code",
   "execution_count": 23,
   "metadata": {},
   "outputs": [
    {
     "data": {
      "text/html": [
       "<div>\n",
       "<style scoped>\n",
       "    .dataframe tbody tr th:only-of-type {\n",
       "        vertical-align: middle;\n",
       "    }\n",
       "\n",
       "    .dataframe tbody tr th {\n",
       "        vertical-align: top;\n",
       "    }\n",
       "\n",
       "    .dataframe thead th {\n",
       "        text-align: right;\n",
       "    }\n",
       "</style>\n",
       "<table border=\"1\" class=\"dataframe\">\n",
       "  <thead>\n",
       "    <tr style=\"text-align: right;\">\n",
       "      <th></th>\n",
       "      <th>shipping_address</th>\n",
       "      <th>billing_address</th>\n",
       "      <th>customer_phone</th>\n",
       "      <th>sale_count</th>\n",
       "    </tr>\n",
       "  </thead>\n",
       "  <tbody>\n",
       "    <tr>\n",
       "      <th>0</th>\n",
       "      <td>8713 Martin Cape Apt. 139\\nPort Rebeccashire, ...</td>\n",
       "      <td>3118 Brent Station Apt. 650\\nSouth Sheliastad,...</td>\n",
       "      <td>(833)120-9766</td>\n",
       "      <td>94</td>\n",
       "    </tr>\n",
       "    <tr>\n",
       "      <th>1</th>\n",
       "      <td>Unit 6065 Box 5023\\nDPO AA 88222</td>\n",
       "      <td>42350 Chelsea Street\\nPort Marilynview, MS 38871</td>\n",
       "      <td>001-584-169-7467x76739</td>\n",
       "      <td>63</td>\n",
       "    </tr>\n",
       "    <tr>\n",
       "      <th>2</th>\n",
       "      <td>19705 Dennis Place\\nWest Jackfurt, ID 28191</td>\n",
       "      <td>PSC 6249, Box 4743\\nAPO AE 62562</td>\n",
       "      <td>535-395-4524x75686</td>\n",
       "      <td>31</td>\n",
       "    </tr>\n",
       "    <tr>\n",
       "      <th>3</th>\n",
       "      <td>PSC 5898, Box 8972\\nAPO AE 39031</td>\n",
       "      <td>7307 Warren Loaf Apt. 698\\nJacksonshire, MT 26603</td>\n",
       "      <td>(900)284-2154x7493</td>\n",
       "      <td>30</td>\n",
       "    </tr>\n",
       "    <tr>\n",
       "      <th>4</th>\n",
       "      <td>Unit 3007 Box 2097\\nDPO AP 08987</td>\n",
       "      <td>247 Heather Fall Apt. 034\\nTimothyland, VA 85256</td>\n",
       "      <td>577-003-4341x24589</td>\n",
       "      <td>63</td>\n",
       "    </tr>\n",
       "  </tbody>\n",
       "</table>\n",
       "</div>"
      ],
      "text/plain": [
       "                                    shipping_address  \\\n",
       "0  8713 Martin Cape Apt. 139\\nPort Rebeccashire, ...   \n",
       "1                   Unit 6065 Box 5023\\nDPO AA 88222   \n",
       "2        19705 Dennis Place\\nWest Jackfurt, ID 28191   \n",
       "3                   PSC 5898, Box 8972\\nAPO AE 39031   \n",
       "4                   Unit 3007 Box 2097\\nDPO AP 08987   \n",
       "\n",
       "                                     billing_address          customer_phone  \\\n",
       "0  3118 Brent Station Apt. 650\\nSouth Sheliastad,...           (833)120-9766   \n",
       "1   42350 Chelsea Street\\nPort Marilynview, MS 38871  001-584-169-7467x76739   \n",
       "2                   PSC 6249, Box 4743\\nAPO AE 62562      535-395-4524x75686   \n",
       "3  7307 Warren Loaf Apt. 698\\nJacksonshire, MT 26603      (900)284-2154x7493   \n",
       "4   247 Heather Fall Apt. 034\\nTimothyland, VA 85256      577-003-4341x24589   \n",
       "\n",
       "   sale_count  \n",
       "0          94  \n",
       "1          63  \n",
       "2          31  \n",
       "3          30  \n",
       "4          63  "
      ]
     },
     "execution_count": 23,
     "metadata": {},
     "output_type": "execute_result"
    }
   ],
   "source": [
    "# Case 2 - no dataframe\n",
    "\n",
    "fakeGen = FakeDataGenerator() # no df\n",
    "fakeGen.add_address('shipping_address')\n",
    "fakeGen.add_address('billing_address')\n",
    "fakeGen.add_phone_number('customer_phone')\n",
    "fakeGen.add_random_number('sale_count', 10, 100)"
   ]
  },
  {
   "cell_type": "code",
   "execution_count": 24,
   "metadata": {},
   "outputs": [
    {
     "data": {
      "text/plain": [
       "Index(['product_id'], dtype='object')"
      ]
     },
     "execution_count": 24,
     "metadata": {},
     "output_type": "execute_result"
    }
   ],
   "source": [
    "df.columns"
   ]
  },
  {
   "cell_type": "code",
   "execution_count": null,
   "metadata": {},
   "outputs": [],
   "source": []
  }
 ],
 "metadata": {
  "kernelspec": {
   "display_name": "Python 3",
   "language": "python",
   "name": "python3"
  },
  "language_info": {
   "codemirror_mode": {
    "name": "ipython",
    "version": 3
   },
   "file_extension": ".py",
   "mimetype": "text/x-python",
   "name": "python",
   "nbconvert_exporter": "python",
   "pygments_lexer": "ipython3",
   "version": "3.8.5"
  },
  "varInspector": {
   "cols": {
    "lenName": 16,
    "lenType": 16,
    "lenVar": 40
   },
   "kernels_config": {
    "python": {
     "delete_cmd_postfix": "",
     "delete_cmd_prefix": "del ",
     "library": "var_list.py",
     "varRefreshCmd": "print(var_dic_list())"
    },
    "r": {
     "delete_cmd_postfix": ") ",
     "delete_cmd_prefix": "rm(",
     "library": "var_list.r",
     "varRefreshCmd": "cat(var_dic_list()) "
    }
   },
   "types_to_exclude": [
    "module",
    "function",
    "builtin_function_or_method",
    "instance",
    "_Feature"
   ],
   "window_display": false
  }
 },
 "nbformat": 4,
 "nbformat_minor": 2
}

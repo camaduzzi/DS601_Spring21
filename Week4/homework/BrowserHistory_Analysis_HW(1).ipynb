{
 "cells": [
  {
   "cell_type": "code",
   "execution_count": 60,
   "metadata": {},
   "outputs": [],
   "source": [
    "import pandas as pd\n",
    "\n",
    "import matplotlib\n",
    "import matplotlib.pyplot as plt"
   ]
  },
  {
   "cell_type": "code",
   "execution_count": 61,
   "metadata": {},
   "outputs": [
    {
     "data": {
      "text/plain": [
       "(31167, 2)"
      ]
     },
     "execution_count": 61,
     "metadata": {},
     "output_type": "execute_result"
    }
   ],
   "source": [
    "df = pd.read_csv('history_cleaned.csv')\n",
    "df.shape"
   ]
  },
  {
   "cell_type": "code",
   "execution_count": null,
   "metadata": {},
   "outputs": [],
   "source": []
  },
  {
   "cell_type": "code",
   "execution_count": 62,
   "metadata": {},
   "outputs": [
    {
     "data": {
      "text/html": [
       "<div>\n",
       "<style scoped>\n",
       "    .dataframe tbody tr th:only-of-type {\n",
       "        vertical-align: middle;\n",
       "    }\n",
       "\n",
       "    .dataframe tbody tr th {\n",
       "        vertical-align: top;\n",
       "    }\n",
       "\n",
       "    .dataframe thead th {\n",
       "        text-align: right;\n",
       "    }\n",
       "</style>\n",
       "<table border=\"1\" class=\"dataframe\">\n",
       "  <thead>\n",
       "    <tr style=\"text-align: right;\">\n",
       "      <th></th>\n",
       "      <th>Time</th>\n",
       "      <th>domain</th>\n",
       "    </tr>\n",
       "  </thead>\n",
       "  <tbody>\n",
       "    <tr>\n",
       "      <th>0</th>\n",
       "      <td>2020-10-15 15:39:14</td>\n",
       "      <td>www.google.com</td>\n",
       "    </tr>\n",
       "    <tr>\n",
       "      <th>1</th>\n",
       "      <td>2020-10-15 15:39:17</td>\n",
       "      <td>mymc.glb.montgomerycollege.edu</td>\n",
       "    </tr>\n",
       "    <tr>\n",
       "      <th>2</th>\n",
       "      <td>2020-10-15 15:39:17</td>\n",
       "      <td>mymclogin.glb.montgomerycollege.edu</td>\n",
       "    </tr>\n",
       "    <tr>\n",
       "      <th>3</th>\n",
       "      <td>2020-10-15 15:39:17</td>\n",
       "      <td>mymclogin.glb.montgomerycollege.edu</td>\n",
       "    </tr>\n",
       "    <tr>\n",
       "      <th>4</th>\n",
       "      <td>2020-10-15 15:39:43</td>\n",
       "      <td>mymc.glb.montgomerycollege.edu</td>\n",
       "    </tr>\n",
       "  </tbody>\n",
       "</table>\n",
       "</div>"
      ],
      "text/plain": [
       "                  Time                               domain\n",
       "0  2020-10-15 15:39:14                       www.google.com\n",
       "1  2020-10-15 15:39:17       mymc.glb.montgomerycollege.edu\n",
       "2  2020-10-15 15:39:17  mymclogin.glb.montgomerycollege.edu\n",
       "3  2020-10-15 15:39:17  mymclogin.glb.montgomerycollege.edu\n",
       "4  2020-10-15 15:39:43       mymc.glb.montgomerycollege.edu"
      ]
     },
     "execution_count": 62,
     "metadata": {},
     "output_type": "execute_result"
    }
   ],
   "source": [
    "df.head()"
   ]
  },
  {
   "cell_type": "code",
   "execution_count": 63,
   "metadata": {},
   "outputs": [
    {
     "data": {
      "text/html": [
       "<div>\n",
       "<style scoped>\n",
       "    .dataframe tbody tr th:only-of-type {\n",
       "        vertical-align: middle;\n",
       "    }\n",
       "\n",
       "    .dataframe tbody tr th {\n",
       "        vertical-align: top;\n",
       "    }\n",
       "\n",
       "    .dataframe thead th {\n",
       "        text-align: right;\n",
       "    }\n",
       "</style>\n",
       "<table border=\"1\" class=\"dataframe\">\n",
       "  <thead>\n",
       "    <tr style=\"text-align: right;\">\n",
       "      <th></th>\n",
       "      <th>Time</th>\n",
       "      <th>domain</th>\n",
       "    </tr>\n",
       "  </thead>\n",
       "  <tbody>\n",
       "    <tr>\n",
       "      <th>31162</th>\n",
       "      <td>2021-02-20 11:24:57</td>\n",
       "      <td>github.com</td>\n",
       "    </tr>\n",
       "    <tr>\n",
       "      <th>31163</th>\n",
       "      <td>2021-02-20 11:25:03</td>\n",
       "      <td>github.com</td>\n",
       "    </tr>\n",
       "    <tr>\n",
       "      <th>31164</th>\n",
       "      <td>2021-02-20 11:25:17</td>\n",
       "      <td>localhost:8888</td>\n",
       "    </tr>\n",
       "    <tr>\n",
       "      <th>31165</th>\n",
       "      <td>2021-02-20 11:25:45</td>\n",
       "      <td>localhost:8888</td>\n",
       "    </tr>\n",
       "    <tr>\n",
       "      <th>31166</th>\n",
       "      <td>2021-02-20 11:25:49</td>\n",
       "      <td>localhost:8888</td>\n",
       "    </tr>\n",
       "  </tbody>\n",
       "</table>\n",
       "</div>"
      ],
      "text/plain": [
       "                      Time          domain\n",
       "31162  2021-02-20 11:24:57      github.com\n",
       "31163  2021-02-20 11:25:03      github.com\n",
       "31164  2021-02-20 11:25:17  localhost:8888\n",
       "31165  2021-02-20 11:25:45  localhost:8888\n",
       "31166  2021-02-20 11:25:49  localhost:8888"
      ]
     },
     "execution_count": 63,
     "metadata": {},
     "output_type": "execute_result"
    }
   ],
   "source": [
    "df.tail()"
   ]
  },
  {
   "cell_type": "code",
   "execution_count": 64,
   "metadata": {},
   "outputs": [
    {
     "data": {
      "text/plain": [
       "Time      object\n",
       "domain    object\n",
       "dtype: object"
      ]
     },
     "execution_count": 64,
     "metadata": {},
     "output_type": "execute_result"
    }
   ],
   "source": [
    "df.dtypes"
   ]
  },
  {
   "cell_type": "code",
   "execution_count": 19,
   "metadata": {},
   "outputs": [
    {
     "data": {
      "text/plain": [
       "77"
      ]
     },
     "execution_count": 19,
     "metadata": {},
     "output_type": "execute_result"
    }
   ],
   "source": [
    "# time column is string and string date is starting with YYYY, so I can do string compares\n",
    "sum(df['Time'] < '1900') "
   ]
  },
  {
   "cell_type": "code",
   "execution_count": 65,
   "metadata": {},
   "outputs": [],
   "source": [
    "# I filter and get a copy, so I will not work on a slice, this will be a new dataframe. (essentially losing 1900 data points)\n",
    "df = df[df.Time > '1900'].copy() "
   ]
  },
  {
   "cell_type": "code",
   "execution_count": null,
   "metadata": {},
   "outputs": [],
   "source": []
  },
  {
   "cell_type": "code",
   "execution_count": 66,
   "metadata": {},
   "outputs": [],
   "source": [
    "df['Time'] = pd.to_datetime(df['Time'], errors='coerce')\n",
    "\n",
    "#df['date'] = pd.to_datetime(df['date'], errors='coerce')"
   ]
  },
  {
   "cell_type": "code",
   "execution_count": 67,
   "metadata": {
    "scrolled": false
   },
   "outputs": [
    {
     "data": {
      "text/plain": [
       "bb-montgomerycollege.blackboard.com    4849\n",
       "outlook.office.com                     3416\n",
       "mail.yahoo.com                         3128\n",
       "drive.google.com                       1708\n",
       "www.google.com                         1565\n",
       "mail.google.com                        1451\n",
       "docs.google.com                        1274\n",
       "montgomerycollege.zoom.us              1164\n",
       "umd.instructure.com                     984\n",
       "www.mathxl.com                          868\n",
       "github.com                              817\n",
       "mymclogin.glb.montgomerycollege.edu     424\n",
       "piazza.com                              367\n",
       "mymc.glb.montgomerycollege.edu          327\n",
       "calendar.google.com                     304\n",
       "mcssb.glb.montgomerycollege.edu         259\n",
       "www.coursera.org                        241\n",
       "md-mcps-psv.edupoint.com                231\n",
       "blackboard.umbc.edu                     230\n",
       "montgomerycollege.mywconline.com        212\n",
       "teams.microsoft.com                     189\n",
       "smile.amazon.com                        187\n",
       "www-awn.aleks.com                       174\n",
       "www.montgomerycollege.edu               163\n",
       "courses.3rdmil.com                      161\n",
       "www.facebook.com                        157\n",
       "www.youtube.com                         154\n",
       "colab.research.google.com               151\n",
       "www.lock5stat.com                       150\n",
       "www.office.com                          141\n",
       "finecobank.com                          141\n",
       "www.theguardian.com                     139\n",
       "umd.zoom.us                             125\n",
       "my.umbc.edu                             113\n",
       "edugen.wileyplus.com                    110\n",
       "login.pearson.com                        91\n",
       "healthy.kaiserpermanente.org             82\n",
       "zoom.us                                  82\n",
       "mcstemlc.mywconline.com                  82\n",
       "www.cnn.com                              80\n",
       "localhost:8888                           76\n",
       "www.linkedin.com                         75\n",
       "accounts.google.com                      74\n",
       "us02web.zoom.us                          72\n",
       "my3.my.umbc.edu                          68\n",
       "mcpsmd.zoom.us                           65\n",
       "www.amazon.com                           64\n",
       "childsplaytoysandbooks.com               64\n",
       "login.microsoftonline.com                61\n",
       "shib.idm.umd.edu                         58\n",
       "Name: domain, dtype: int64"
      ]
     },
     "execution_count": 67,
     "metadata": {},
     "output_type": "execute_result"
    }
   ],
   "source": [
    "df['domain'].value_counts()[:50]"
   ]
  },
  {
   "cell_type": "code",
   "execution_count": 68,
   "metadata": {},
   "outputs": [
    {
     "data": {
      "text/plain": [
       "<AxesSubplot:>"
      ]
     },
     "execution_count": 68,
     "metadata": {},
     "output_type": "execute_result"
    },
    {
     "data": {
      "image/png": "[encoded data removed]",
      "text/plain": [
       "<Figure size 432x288 with 1 Axes>"
      ]
     },
     "metadata": {
      "needs_background": "light"
     },
     "output_type": "display_data"
    }
   ],
   "source": [
    "# top 10 sites that I visisted\n",
    "df['domain'].value_counts()[:10].plot(kind='bar')"
   ]
  },
  {
   "cell_type": "code",
   "execution_count": 69,
   "metadata": {},
   "outputs": [
    {
     "data": {
      "text/plain": [
       "Time\n",
       "0.0        4\n",
       "1.0        4\n",
       "2.0        4\n",
       "3.0        1\n",
       "4.0        1\n",
       "5.0       28\n",
       "6.0      101\n",
       "7.0      381\n",
       "8.0      713\n",
       "9.0     1460\n",
       "10.0    2359\n",
       "11.0    2762\n",
       "12.0    3130\n",
       "13.0    3396\n",
       "14.0    3136\n",
       "15.0    2746\n",
       "16.0    2687\n",
       "17.0    2470\n",
       "18.0    1667\n",
       "19.0    1097\n",
       "20.0    1269\n",
       "21.0    1022\n",
       "22.0     456\n",
       "23.0     193\n",
       "Name: domain, dtype: int64"
      ]
     },
     "execution_count": 69,
     "metadata": {},
     "output_type": "execute_result"
    }
   ],
   "source": [
    "hourly_counts = df.groupby(df.Time.dt.hour).domain.size()\n",
    "hourly_counts"
   ]
  },
  {
   "cell_type": "code",
   "execution_count": 70,
   "metadata": {
    "scrolled": true
   },
   "outputs": [
    {
     "data": {
      "text/plain": [
       "<AxesSubplot:xlabel='Time'>"
      ]
     },
     "execution_count": 70,
     "metadata": {},
     "output_type": "execute_result"
    },
    {
     "data": {
      "image/png": "[encoded data removed]",
      "text/plain": [
       "<Figure size 432x288 with 1 Axes>"
      ]
     },
     "metadata": {
      "needs_background": "light"
     },
     "output_type": "display_data"
    }
   ],
   "source": [
    "hourly_counts.plot.bar()"
   ]
  },
  {
   "cell_type": "code",
   "execution_count": 71,
   "metadata": {},
   "outputs": [
    {
     "data": {
      "text/html": [
       "<div>\n",
       "<style scoped>\n",
       "    .dataframe tbody tr th:only-of-type {\n",
       "        vertical-align: middle;\n",
       "    }\n",
       "\n",
       "    .dataframe tbody tr th {\n",
       "        vertical-align: top;\n",
       "    }\n",
       "\n",
       "    .dataframe thead th {\n",
       "        text-align: right;\n",
       "    }\n",
       "</style>\n",
       "<table border=\"1\" class=\"dataframe\">\n",
       "  <thead>\n",
       "    <tr style=\"text-align: right;\">\n",
       "      <th></th>\n",
       "      <th>Time</th>\n",
       "      <th>domain</th>\n",
       "      <th>Day</th>\n",
       "      <th>DayIndex</th>\n",
       "    </tr>\n",
       "  </thead>\n",
       "  <tbody>\n",
       "    <tr>\n",
       "      <th>0</th>\n",
       "      <td>2020-10-15 15:39:14</td>\n",
       "      <td>www.google.com</td>\n",
       "      <td>Thursday</td>\n",
       "      <td>3.0</td>\n",
       "    </tr>\n",
       "    <tr>\n",
       "      <th>1</th>\n",
       "      <td>2020-10-15 15:39:17</td>\n",
       "      <td>mymc.glb.montgomerycollege.edu</td>\n",
       "      <td>Thursday</td>\n",
       "      <td>3.0</td>\n",
       "    </tr>\n",
       "    <tr>\n",
       "      <th>2</th>\n",
       "      <td>2020-10-15 15:39:17</td>\n",
       "      <td>mymclogin.glb.montgomerycollege.edu</td>\n",
       "      <td>Thursday</td>\n",
       "      <td>3.0</td>\n",
       "    </tr>\n",
       "    <tr>\n",
       "      <th>3</th>\n",
       "      <td>2020-10-15 15:39:17</td>\n",
       "      <td>mymclogin.glb.montgomerycollege.edu</td>\n",
       "      <td>Thursday</td>\n",
       "      <td>3.0</td>\n",
       "    </tr>\n",
       "    <tr>\n",
       "      <th>4</th>\n",
       "      <td>2020-10-15 15:39:43</td>\n",
       "      <td>mymc.glb.montgomerycollege.edu</td>\n",
       "      <td>Thursday</td>\n",
       "      <td>3.0</td>\n",
       "    </tr>\n",
       "  </tbody>\n",
       "</table>\n",
       "</div>"
      ],
      "text/plain": [
       "                 Time                               domain       Day  DayIndex\n",
       "0 2020-10-15 15:39:14                       www.google.com  Thursday       3.0\n",
       "1 2020-10-15 15:39:17       mymc.glb.montgomerycollege.edu  Thursday       3.0\n",
       "2 2020-10-15 15:39:17  mymclogin.glb.montgomerycollege.edu  Thursday       3.0\n",
       "3 2020-10-15 15:39:17  mymclogin.glb.montgomerycollege.edu  Thursday       3.0\n",
       "4 2020-10-15 15:39:43       mymc.glb.montgomerycollege.edu  Thursday       3.0"
      ]
     },
     "execution_count": 71,
     "metadata": {},
     "output_type": "execute_result"
    }
   ],
   "source": [
    "df['Day'] = [ d.day_name() for d in df['Time']]\n",
    "df['DayIndex'] = [ d.dayofweek for d in df['Time']]\n",
    "df.head()"
   ]
  },
  {
   "cell_type": "code",
   "execution_count": 37,
   "metadata": {},
   "outputs": [
    {
     "data": {
      "text/plain": [
       "Monday       6707\n",
       "Wednesday    5860\n",
       "Thursday     5430\n",
       "Friday       5419\n",
       "Tuesday      4700\n",
       "Sunday       1520\n",
       "Saturday     1451\n",
       "Name: Day, dtype: int64"
      ]
     },
     "execution_count": 37,
     "metadata": {},
     "output_type": "execute_result"
    }
   ],
   "source": [
    "df['Day'].value_counts()"
   ]
  },
  {
   "cell_type": "code",
   "execution_count": 38,
   "metadata": {},
   "outputs": [
    {
     "data": {
      "text/plain": [
       "0.0    6707\n",
       "1.0    4700\n",
       "2.0    5860\n",
       "3.0    5430\n",
       "4.0    5419\n",
       "5.0    1451\n",
       "6.0    1520\n",
       "Name: DayIndex, dtype: int64"
      ]
     },
     "execution_count": 38,
     "metadata": {},
     "output_type": "execute_result"
    }
   ],
   "source": [
    "days_sorted = df['DayIndex'].value_counts().sort_index()\n",
    "days_sorted"
   ]
  },
  {
   "cell_type": "code",
   "execution_count": 39,
   "metadata": {},
   "outputs": [
    {
     "data": {
      "image/png": "[encoded data removed]",
      "text/plain": [
       "<Figure size 432x288 with 1 Axes>"
      ]
     },
     "metadata": {
      "needs_background": "light"
     },
     "output_type": "display_data"
    }
   ],
   "source": [
    "days_sorted.plot.bar()\n",
    "plt.xticks(days_sorted.index, ['Su','M', 'T', 'W','Th', 'F', 'Sa'], rotation=0)\n",
    "\n",
    "plt.show()"
   ]
  },
  {
   "cell_type": "code",
   "execution_count": 40,
   "metadata": {},
   "outputs": [
    {
     "data": {
      "text/html": [
       "<div>\n",
       "<style scoped>\n",
       "    .dataframe tbody tr th:only-of-type {\n",
       "        vertical-align: middle;\n",
       "    }\n",
       "\n",
       "    .dataframe tbody tr th {\n",
       "        vertical-align: top;\n",
       "    }\n",
       "\n",
       "    .dataframe thead th {\n",
       "        text-align: right;\n",
       "    }\n",
       "</style>\n",
       "<table border=\"1\" class=\"dataframe\">\n",
       "  <thead>\n",
       "    <tr style=\"text-align: right;\">\n",
       "      <th></th>\n",
       "      <th>Time</th>\n",
       "      <th>domain</th>\n",
       "      <th>Day</th>\n",
       "      <th>DayIndex</th>\n",
       "      <th>isWeekend</th>\n",
       "    </tr>\n",
       "  </thead>\n",
       "  <tbody>\n",
       "    <tr>\n",
       "      <th>0</th>\n",
       "      <td>2020-10-15 15:39:14</td>\n",
       "      <td>www.google.com</td>\n",
       "      <td>Thursday</td>\n",
       "      <td>3.0</td>\n",
       "      <td>False</td>\n",
       "    </tr>\n",
       "    <tr>\n",
       "      <th>1</th>\n",
       "      <td>2020-10-15 15:39:17</td>\n",
       "      <td>mymc.glb.montgomerycollege.edu</td>\n",
       "      <td>Thursday</td>\n",
       "      <td>3.0</td>\n",
       "      <td>False</td>\n",
       "    </tr>\n",
       "    <tr>\n",
       "      <th>2</th>\n",
       "      <td>2020-10-15 15:39:17</td>\n",
       "      <td>mymclogin.glb.montgomerycollege.edu</td>\n",
       "      <td>Thursday</td>\n",
       "      <td>3.0</td>\n",
       "      <td>False</td>\n",
       "    </tr>\n",
       "    <tr>\n",
       "      <th>3</th>\n",
       "      <td>2020-10-15 15:39:17</td>\n",
       "      <td>mymclogin.glb.montgomerycollege.edu</td>\n",
       "      <td>Thursday</td>\n",
       "      <td>3.0</td>\n",
       "      <td>False</td>\n",
       "    </tr>\n",
       "    <tr>\n",
       "      <th>4</th>\n",
       "      <td>2020-10-15 15:39:43</td>\n",
       "      <td>mymc.glb.montgomerycollege.edu</td>\n",
       "      <td>Thursday</td>\n",
       "      <td>3.0</td>\n",
       "      <td>False</td>\n",
       "    </tr>\n",
       "  </tbody>\n",
       "</table>\n",
       "</div>"
      ],
      "text/plain": [
       "                 Time                               domain       Day  \\\n",
       "0 2020-10-15 15:39:14                       www.google.com  Thursday   \n",
       "1 2020-10-15 15:39:17       mymc.glb.montgomerycollege.edu  Thursday   \n",
       "2 2020-10-15 15:39:17  mymclogin.glb.montgomerycollege.edu  Thursday   \n",
       "3 2020-10-15 15:39:17  mymclogin.glb.montgomerycollege.edu  Thursday   \n",
       "4 2020-10-15 15:39:43       mymc.glb.montgomerycollege.edu  Thursday   \n",
       "\n",
       "   DayIndex  isWeekend  \n",
       "0       3.0      False  \n",
       "1       3.0      False  \n",
       "2       3.0      False  \n",
       "3       3.0      False  \n",
       "4       3.0      False  "
      ]
     },
     "execution_count": 40,
     "metadata": {},
     "output_type": "execute_result"
    }
   ],
   "source": [
    "def is_weekend(day): \n",
    "    return day in ['Saturday', 'Sunday']\n",
    "\n",
    "\n",
    "df['isWeekend'] = [ is_weekend(i) for i in df['Day']]\n",
    "df.head()"
   ]
  },
  {
   "cell_type": "code",
   "execution_count": 41,
   "metadata": {},
   "outputs": [],
   "source": [
    "weekend = df[ df['isWeekend'] == True ]\n",
    "\n",
    "weekday = df[ df['isWeekend'] == False ]\n"
   ]
  },
  {
   "cell_type": "code",
   "execution_count": 43,
   "metadata": {},
   "outputs": [
    {
     "data": {
      "text/html": [
       "<div>\n",
       "<style scoped>\n",
       "    .dataframe tbody tr th:only-of-type {\n",
       "        vertical-align: middle;\n",
       "    }\n",
       "\n",
       "    .dataframe tbody tr th {\n",
       "        vertical-align: top;\n",
       "    }\n",
       "\n",
       "    .dataframe thead th {\n",
       "        text-align: right;\n",
       "    }\n",
       "</style>\n",
       "<table border=\"1\" class=\"dataframe\">\n",
       "  <thead>\n",
       "    <tr style=\"text-align: right;\">\n",
       "      <th></th>\n",
       "      <th>Time</th>\n",
       "      <th>domain</th>\n",
       "      <th>Day</th>\n",
       "      <th>DayIndex</th>\n",
       "      <th>isWeekend</th>\n",
       "    </tr>\n",
       "  </thead>\n",
       "  <tbody>\n",
       "    <tr>\n",
       "      <th>1876</th>\n",
       "      <td>2020-10-24 10:23:02</td>\n",
       "      <td>www.office.com</td>\n",
       "      <td>Saturday</td>\n",
       "      <td>5.0</td>\n",
       "      <td>True</td>\n",
       "    </tr>\n",
       "    <tr>\n",
       "      <th>1877</th>\n",
       "      <td>2020-10-24 10:32:51</td>\n",
       "      <td>www.google.com</td>\n",
       "      <td>Saturday</td>\n",
       "      <td>5.0</td>\n",
       "      <td>True</td>\n",
       "    </tr>\n",
       "    <tr>\n",
       "      <th>1878</th>\n",
       "      <td>2020-10-24 10:51:13</td>\n",
       "      <td>www.latlong.net</td>\n",
       "      <td>Saturday</td>\n",
       "      <td>5.0</td>\n",
       "      <td>True</td>\n",
       "    </tr>\n",
       "    <tr>\n",
       "      <th>1879</th>\n",
       "      <td>2020-10-24 10:57:26</td>\n",
       "      <td>www.google.com</td>\n",
       "      <td>Saturday</td>\n",
       "      <td>5.0</td>\n",
       "      <td>True</td>\n",
       "    </tr>\n",
       "    <tr>\n",
       "      <th>1880</th>\n",
       "      <td>2020-10-24 10:57:39</td>\n",
       "      <td>www.rapidtables.com</td>\n",
       "      <td>Saturday</td>\n",
       "      <td>5.0</td>\n",
       "      <td>True</td>\n",
       "    </tr>\n",
       "  </tbody>\n",
       "</table>\n",
       "</div>"
      ],
      "text/plain": [
       "                    Time               domain       Day  DayIndex  isWeekend\n",
       "1876 2020-10-24 10:23:02       www.office.com  Saturday       5.0       True\n",
       "1877 2020-10-24 10:32:51       www.google.com  Saturday       5.0       True\n",
       "1878 2020-10-24 10:51:13      www.latlong.net  Saturday       5.0       True\n",
       "1879 2020-10-24 10:57:26       www.google.com  Saturday       5.0       True\n",
       "1880 2020-10-24 10:57:39  www.rapidtables.com  Saturday       5.0       True"
      ]
     },
     "execution_count": 43,
     "metadata": {},
     "output_type": "execute_result"
    }
   ],
   "source": [
    "weekend.head()"
   ]
  },
  {
   "cell_type": "code",
   "execution_count": 44,
   "metadata": {},
   "outputs": [
    {
     "data": {
      "text/plain": [
       "bb-montgomerycollege.blackboard.com    4627\n",
       "outlook.office.com                     3249\n",
       "mail.yahoo.com                         2918\n",
       "drive.google.com                       1683\n",
       "www.google.com                         1327\n",
       "Name: domain, dtype: int64"
      ]
     },
     "execution_count": 44,
     "metadata": {},
     "output_type": "execute_result"
    }
   ],
   "source": [
    "weekday['domain'].value_counts()[:5]"
   ]
  },
  {
   "cell_type": "code",
   "execution_count": 45,
   "metadata": {},
   "outputs": [
    {
     "data": {
      "text/plain": [
       "www.google.com                         238\n",
       "bb-montgomerycollege.blackboard.com    222\n",
       "mail.yahoo.com                         210\n",
       "github.com                             201\n",
       "mail.google.com                        194\n",
       "Name: domain, dtype: int64"
      ]
     },
     "execution_count": 45,
     "metadata": {},
     "output_type": "execute_result"
    }
   ],
   "source": [
    "weekend['domain'].value_counts()[:5]"
   ]
  },
  {
   "cell_type": "code",
   "execution_count": 46,
   "metadata": {},
   "outputs": [
    {
     "data": {
      "image/png": "[encoded data removed]",
      "text/plain": [
       "<Figure size 432x288 with 1 Axes>"
      ]
     },
     "metadata": {
      "needs_background": "light"
     },
     "output_type": "display_data"
    }
   ],
   "source": [
    "def show_stats(df, color, alpha=1):\n",
    "    hourly_counts = df.groupby(df.Time.dt.hour).domain.size()\n",
    "    \n",
    "    # fill in the missing hours\n",
    "    for h in range(24):\n",
    "        if h not in hourly_counts:\n",
    "            hourly_counts[h]=0 # I initially didn't do this and hours were not lining up\n",
    "            \n",
    "    hourly_counts.sort_index().plot.bar(color=color, alpha=alpha)\n",
    "    plt.ylim([0, 1300])\n",
    "\n",
    "    \n",
    "show_stats(weekend, 'red', 1)\n",
    "    \n",
    "show_stats(weekday, 'blue', 0.5)\n"
   ]
  },
  {
   "cell_type": "code",
   "execution_count": 47,
   "metadata": {},
   "outputs": [],
   "source": [
    "# be skeptical about your data!\n",
    "# am I on computer a lot more on the weekdays \n",
    "# or it shows more simply becasue there are more weekdays "
   ]
  },
  {
   "cell_type": "code",
   "execution_count": 48,
   "metadata": {},
   "outputs": [
    {
     "data": {
      "image/png": "[encoded data removed]",
      "text/plain": [
       "<Figure size 432x288 with 1 Axes>"
      ]
     },
     "metadata": {
      "needs_background": "light"
     },
     "output_type": "display_data"
    },
    {
     "data": {
      "image/png": "[encoded data removed]",
      "text/plain": [
       "<Figure size 432x288 with 1 Axes>"
      ]
     },
     "metadata": {
      "needs_background": "light"
     },
     "output_type": "display_data"
    }
   ],
   "source": [
    "def show_stats(df, color, alpha=1, title='', y_lim = None):\n",
    "    hourly_counts = df.groupby(df.Time.dt.hour).domain.size()\n",
    "    \n",
    "    days_counts = df.Time.dt.date.nunique()\n",
    "    \n",
    "    # fill in the missing hours\n",
    "    for h in range(24):\n",
    "        if h not in hourly_counts:\n",
    "            hourly_counts[h]=0 # I initially didn't do this and hours were not lining up\n",
    "        else: \n",
    "            hourly_counts[h] = hourly_counts[h] * 100.0 /  days_counts # I multiplied by 100.0 to make it float and also not to loose decimals\n",
    "            \n",
    "    hourly_counts.sort_index().plot.bar(color=color, alpha=alpha, title=title)\n",
    "    \n",
    "    if y_lim != None:\n",
    "        plt.ylim(y_lim)\n",
    "    plt.show()\n",
    "\n",
    "\n",
    "    \n",
    "y_lim=[0, 1800]\n",
    "show_stats(weekend, 'red', 1, 'Weekend', y_lim=y_lim)\n",
    "    \n",
    "show_stats(weekday, 'blue', 0.5, 'Weekday', y_lim=y_lim)"
   ]
  },
  {
   "cell_type": "code",
   "execution_count": 49,
   "metadata": {},
   "outputs": [
    {
     "data": {
      "text/plain": [
       "bb-montgomerycollege.blackboard.com    4849\n",
       "outlook.office.com                     3416\n",
       "mail.yahoo.com                         3128\n",
       "drive.google.com                       1708\n",
       "www.google.com                         1565\n",
       "mail.google.com                        1451\n",
       "docs.google.com                        1274\n",
       "montgomerycollege.zoom.us              1164\n",
       "umd.instructure.com                     984\n",
       "www.mathxl.com                          868\n",
       "github.com                              817\n",
       "mymclogin.glb.montgomerycollege.edu     424\n",
       "piazza.com                              367\n",
       "mymc.glb.montgomerycollege.edu          327\n",
       "calendar.google.com                     304\n",
       "mcssb.glb.montgomerycollege.edu         259\n",
       "www.coursera.org                        241\n",
       "md-mcps-psv.edupoint.com                231\n",
       "blackboard.umbc.edu                     230\n",
       "montgomerycollege.mywconline.com        212\n",
       "teams.microsoft.com                     189\n",
       "smile.amazon.com                        187\n",
       "www-awn.aleks.com                       174\n",
       "www.montgomerycollege.edu               163\n",
       "courses.3rdmil.com                      161\n",
       "www.facebook.com                        157\n",
       "www.youtube.com                         154\n",
       "colab.research.google.com               151\n",
       "www.lock5stat.com                       150\n",
       "www.office.com                          141\n",
       "finecobank.com                          141\n",
       "www.theguardian.com                     139\n",
       "umd.zoom.us                             125\n",
       "my.umbc.edu                             113\n",
       "edugen.wileyplus.com                    110\n",
       "login.pearson.com                        91\n",
       "healthy.kaiserpermanente.org             82\n",
       "zoom.us                                  82\n",
       "mcstemlc.mywconline.com                  82\n",
       "www.cnn.com                              80\n",
       "localhost:8888                           76\n",
       "www.linkedin.com                         75\n",
       "accounts.google.com                      74\n",
       "us02web.zoom.us                          72\n",
       "my3.my.umbc.edu                          68\n",
       "mcpsmd.zoom.us                           65\n",
       "www.amazon.com                           64\n",
       "childsplaytoysandbooks.com               64\n",
       "login.microsoftonline.com                61\n",
       "shib.idm.umd.edu                         58\n",
       "Name: domain, dtype: int64"
      ]
     },
     "execution_count": 49,
     "metadata": {},
     "output_type": "execute_result"
    }
   ],
   "source": [
    "df['domain'].value_counts()[:50]"
   ]
  },
  {
   "cell_type": "code",
   "execution_count": null,
   "metadata": {},
   "outputs": [],
   "source": []
  },
  {
   "cell_type": "code",
   "execution_count": 50,
   "metadata": {},
   "outputs": [],
   "source": [
    "df['domain'] = df['domain'].astype(str)"
   ]
  },
  {
   "cell_type": "code",
   "execution_count": 51,
   "metadata": {},
   "outputs": [],
   "source": [
    "def get_data_for_domain(val):\n",
    "    return df[ [True if val.lower() in i.lower() else False for i in df['domain'] ]]\n",
    "\n",
    "\n",
    "def show_domain_stats(domain, color='blue', alpha=1):\n",
    "    data = get_data_for_domain(domain)\n",
    "    show_stats(data, color, alpha)\n",
    "    return data"
   ]
  },
  {
   "cell_type": "code",
   "execution_count": 52,
   "metadata": {},
   "outputs": [
    {
     "data": {
      "image/png": "[encoded data removed]",
      "text/plain": [
       "<Figure size 432x288 with 1 Axes>"
      ]
     },
     "metadata": {
      "needs_background": "light"
     },
     "output_type": "display_data"
    }
   ],
   "source": [
    "_= show_domain_stats('google', 'blue')"
   ]
  },
  {
   "cell_type": "code",
   "execution_count": null,
   "metadata": {},
   "outputs": [],
   "source": []
  },
  {
   "cell_type": "code",
   "execution_count": 53,
   "metadata": {},
   "outputs": [
    {
     "data": {
      "image/png": "[encoded data removed]",
      "text/plain": [
       "<Figure size 432x288 with 1 Axes>"
      ]
     },
     "metadata": {
      "needs_background": "light"
     },
     "output_type": "display_data"
    }
   ],
   "source": [
    "_ = show_domain_stats('montgomerycollege', 'magenta')\n"
   ]
  },
  {
   "cell_type": "code",
   "execution_count": 59,
   "metadata": {},
   "outputs": [
    {
     "data": {
      "image/png": "[encoded data removed]",
      "text/plain": [
       "<Figure size 432x288 with 1 Axes>"
      ]
     },
     "metadata": {
      "needs_background": "light"
     },
     "output_type": "display_data"
    }
   ],
   "source": [
    "_ = show_domain_stats('github', 'red')\n"
   ]
  },
  {
   "cell_type": "code",
   "execution_count": 57,
   "metadata": {},
   "outputs": [
    {
     "data": {
      "image/png": "[encoded data removed]",
      "text/plain": [
       "<Figure size 432x288 with 1 Axes>"
      ]
     },
     "metadata": {
      "needs_background": "light"
     },
     "output_type": "display_data"
    }
   ],
   "source": [
    "_=show_domain_stats('piazza', 'black')"
   ]
  },
  {
   "cell_type": "markdown",
   "metadata": {},
   "source": [
    "### Based on data, what can we tell about this person?\n",
    "\n",
    "1. Is this a work computer/personal computer?\n",
    "1. Is he employed?\n",
    "1. What is his interests?\n",
    "1. Anything interesting? "
   ]
  },
  {
   "cell_type": "markdown",
   "metadata": {},
   "source": [
    "\n",
    "The use of the computer goes back  only to October 2020 - The data is thus skewed by the period of anaylis when a personal computer is being used also for professional purposes \n",
    "\n",
    "\n",
    "The computer seems to be used both during the weekend and during the week approximately in the same manner - meaning during the same hours. \n",
    "\n",
    "The person using it seems to be employed and  using it mostly as a tool to perform her job (teaching/going to school).\n",
    "\n",
    "The person using it seems to be tired by the end of the week and in fact seems to take a break from the pc  primarily on Fridays and Saturdays. \n",
    "\n",
    "Evening hours are relatively speaking lighter in terms of usage as well. \n",
    "\n",
    "The  bulk of the time is  focused on school-tools such as Blackboard / google/  - some of this data repeats in my opnion (for example I think Blackboard for Montgomery College and MY MC  log in information could be aggregated and  if so, it might give a better picture, since the two sites must be visited one before the other to allow access for example. Also, I  tend to leave my browser open with lots of windows open at the same time, I think that is reflected by the  distributions' overlap with usage overall).\n",
    "\n",
    "I find it interesting that  my regular visits to news website are not showing up (Although I do this a lot on my phone now that I think about it) \n",
    "Not a lot of scoail media - which is actually confirmed (I am surprised that Facebook actually made it in this list given the fact that I actively boycott it! \n",
    "\n"
   ]
  },
  {
   "cell_type": "markdown",
   "metadata": {},
   "source": [
    "### Do you give permission for another student to analyze your `history_cleaned.csv`? \n",
    "\n",
    "(Your name will stay confidencial)"
   ]
  },
  {
   "cell_type": "raw",
   "metadata": {},
   "source": [
    "Sure \n",
    "\n",
    "Although I come across as a nerd.... :-) "
   ]
  },
  {
   "cell_type": "markdown",
   "metadata": {},
   "source": [
    "### What do you think about this assignment? ( 3 sentences at most! ) "
   ]
  },
  {
   "cell_type": "markdown",
   "metadata": {},
   "source": [
    "answer here"
   ]
  },
  {
   "cell_type": "code",
   "execution_count": null,
   "metadata": {},
   "outputs": [],
   "source": [
    "I find the idea of analyzing browsing data to discover characteristics of an individual quite interesting. \n",
    "\n",
    "It is scary to think of how much information is available  about us that we might not want people \n",
    "to have access to.\n",
    "\n",
    "I wish more people took tha time to understand that this is the case, especially younger people, who\n",
    "end up being haunted by silly decisions they might make when they are younger. "
   ]
  }
 ],
 "metadata": {
  "kernelspec": {
   "display_name": "Python 3",
   "language": "python",
   "name": "python3"
  },
  "language_info": {
   "codemirror_mode": {
    "name": "ipython",
    "version": 3
   },
   "file_extension": ".py",
   "mimetype": "text/x-python",
   "name": "python",
   "nbconvert_exporter": "python",
   "pygments_lexer": "ipython3",
   "version": "3.8.5"
  },
  "varInspector": {
   "cols": {
    "lenName": 16,
    "lenType": 16,
    "lenVar": 40
   },
   "kernels_config": {
    "python": {
     "delete_cmd_postfix": "",
     "delete_cmd_prefix": "del ",
     "library": "var_list.py",
     "varRefreshCmd": "print(var_dic_list())"
    },
    "r": {
     "delete_cmd_postfix": ") ",
     "delete_cmd_prefix": "rm(",
     "library": "var_list.r",
     "varRefreshCmd": "cat(var_dic_list()) "
    }
   },
   "types_to_exclude": [
    "module",
    "function",
    "builtin_function_or_method",
    "instance",
    "_Feature"
   ],
   "window_display": false
  }
 },
 "nbformat": 4,
 "nbformat_minor": 2
}
